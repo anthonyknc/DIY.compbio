{
 "cells": [
  {
   "cell_type": "markdown",
   "metadata": {},
   "source": [
    "# Introduction to Polars"
   ]
  },
  {
   "cell_type": "code",
   "execution_count": null,
   "metadata": {},
   "outputs": [],
   "source": [
    "# Run a shell command 'wget' to download the AlphaMissense file to the 'data' folder\n",
    "# !: Run a shell command in a Jupyter Notebook\n",
    "# -P: Save the downloaded file to a designated folder\n",
    "# -q: Turn off all Wget's outputs\n",
    "# Note that this file has 643 MB in size\n",
    "# ! wget https://storage.googleapis.com/dm_alphamissense/AlphaMissense_hg38.tsv.gz -P data/ -q"
   ]
  },
  {
   "cell_type": "code",
   "execution_count": 1,
   "metadata": {},
   "outputs": [
    {
     "name": "stdout",
     "output_type": "stream",
     "text": [
      "Polar version: 1.4.0\n",
      "Pandas version: 2.2.2\n",
      "Polar version: 1.4.0\n",
      "Pandas version: 2.2.2\n"
     ]
    }
   ],
   "source": [
    "import polars as pl\n",
    "import pandas as pd\n",
    "import time\n",
    "\n",
    "print(f\"Polar version: {pl.__version__}\")\n",
    "print(f\"Pandas version: {pd.__version__}\")"
   ]
  },
  {
   "cell_type": "code",
   "execution_count": null,
   "metadata": {},
   "outputs": [],
   "source": [
    "# %%timeit -n 3 -r 1\n",
    "# pandas_df = pd.read_csv('data/AlphaMissense_hg38.tsv.gz', sep='\\t', skiprows=3)\n",
    "# print(f\"pandas_df has {pandas_df.shape[0]} rows and {pandas_df.shape[1]} columns.\")"
   ]
  },
  {
   "cell_type": "code",
   "execution_count": null,
   "metadata": {},
   "outputs": [],
   "source": [
    "# %%timeit -n 3 -r 1\n",
    "# polars_df = pl.read_csv('data/AlphaMissense_hg38.tsv.gz', separator='\\t', skip_rows=3)\n",
    "# print(f\"polars_df has {polars_df.shape[0]} rows and {polars_df.shape[1]} columns.\")"
   ]
  },
  {
   "cell_type": "code",
   "execution_count": 13,
   "metadata": {},
   "outputs": [],
   "source": [
    "polars_df = pl.read_csv('data/AlphaMissense_hg38.tsv.gz', separator='\\t', skip_rows=3)"
   ]
  }
 ],
 "metadata": {
  "language_info": {
   "name": "python"
  }
 },
 "nbformat": 4,
 "nbformat_minor": 2
}
